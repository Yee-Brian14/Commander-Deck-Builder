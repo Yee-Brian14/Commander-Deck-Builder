{
 "cells": [
  {
   "cell_type": "markdown",
   "metadata": {},
   "source": [
    "# Import Libraries"
   ]
  },
  {
   "cell_type": "code",
   "execution_count": 83,
   "metadata": {},
   "outputs": [],
   "source": [
    "import requests\n",
    "from time import sleep\n",
    "import json\n",
    "import pandas as pd\n",
    "from PIL import Image\n",
    "from io import BytesIO\n",
    "import seaborn as sns\n",
    "import matplotlib.pyplot as plt\n",
    "\n",
    "pd.options.display.max_columns=999\n",
    "pd.options.display.max_rows=999"
   ]
  },
  {
   "cell_type": "markdown",
   "metadata": {},
   "source": [
    "# Load JSON of cards"
   ]
  },
  {
   "cell_type": "code",
   "execution_count": 89,
   "metadata": {},
   "outputs": [],
   "source": [
    "bulk = requests.get('https://api.scryfall.com/bulk-data')"
   ]
  },
  {
   "cell_type": "code",
   "execution_count": 98,
   "metadata": {},
   "outputs": [],
   "source": [
    "for i in range(len(bulk.json()['data'])):\n",
    "    if bulk.json()['data'][i]['type']=='default_cards':\n",
    "        default = requests.get(bulk.json()['data'][i]['permalink_uri']).json()"
   ]
  },
  {
   "cell_type": "code",
   "execution_count": 99,
   "metadata": {},
   "outputs": [],
   "source": [
    "scryfall = pd.DataFrame(default)"
   ]
  },
  {
   "cell_type": "code",
   "execution_count": 100,
   "metadata": {
    "scrolled": true
   },
   "outputs": [
    {
     "data": {
      "text/plain": [
       "Index(['all_parts', 'arena_id', 'artist', 'artist_ids', 'booster',\n",
       "       'border_color', 'card_back_id', 'card_faces', 'cmc', 'collector_number',\n",
       "       'color_identity', 'color_indicator', 'colors', 'digital', 'edhrec_rank',\n",
       "       'flavor_text', 'foil', 'frame', 'frame_effects', 'full_art', 'games',\n",
       "       'hand_modifier', 'highres_image', 'id', 'illustration_id', 'image_uris',\n",
       "       'lang', 'layout', 'legalities', 'life_modifier', 'loyalty', 'mana_cost',\n",
       "       'mtgo_foil_id', 'mtgo_id', 'multiverse_ids', 'name', 'nonfoil',\n",
       "       'object', 'oracle_id', 'oracle_text', 'oversized', 'power', 'preview',\n",
       "       'printed_name', 'printed_text', 'printed_type_line',\n",
       "       'prints_search_uri', 'promo', 'promo_types', 'rarity', 'related_uris',\n",
       "       'released_at', 'reprint', 'reserved', 'rulings_uri', 'scryfall_set_uri',\n",
       "       'scryfall_uri', 'set', 'set_name', 'set_search_uri', 'set_type',\n",
       "       'set_uri', 'story_spotlight', 'tcgplayer_id', 'textless', 'toughness',\n",
       "       'type_line', 'uri', 'variation', 'variation_of', 'watermark'],\n",
       "      dtype='object')"
      ]
     },
     "execution_count": 100,
     "metadata": {},
     "output_type": "execute_result"
    }
   ],
   "source": [
    "scryfall.columns"
   ]
  },
  {
   "cell_type": "code",
   "execution_count": 101,
   "metadata": {},
   "outputs": [],
   "source": [
    "scryfall.drop(columns=['arena_id','artist_ids','booster','border_color','card_back_id','card_faces',\n",
    "                       'collector_number','digital','flavor_text','foil','frame','frame_effects','full_art',\n",
    "                       'hand_modifier','id','illustration_id','life_modifier','mtgo_foil_id','mtgo_id',\n",
    "                       'multiverse_ids','nonfoil','object','oracle_id','printed_name','prints_search_uri',\n",
    "                       'promo_types','rarity','related_uris','rulings_uri','scryfall_set_uri','set_type',\n",
    "                       'set_uri','story_spotlight','uri','variation','variation_of','watermark'],inplace=True)"
   ]
  },
  {
   "cell_type": "code",
   "execution_count": 102,
   "metadata": {},
   "outputs": [
    {
     "data": {
      "text/plain": [
       "Index(['all_parts', 'artist', 'cmc', 'color_identity', 'color_indicator',\n",
       "       'colors', 'edhrec_rank', 'games', 'highres_image', 'image_uris', 'lang',\n",
       "       'layout', 'legalities', 'loyalty', 'mana_cost', 'name', 'oracle_text',\n",
       "       'oversized', 'power', 'preview', 'printed_text', 'printed_type_line',\n",
       "       'promo', 'released_at', 'reprint', 'reserved', 'scryfall_uri', 'set',\n",
       "       'set_name', 'set_search_uri', 'tcgplayer_id', 'textless', 'toughness',\n",
       "       'type_line'],\n",
       "      dtype='object')"
      ]
     },
     "execution_count": 102,
     "metadata": {},
     "output_type": "execute_result"
    }
   ],
   "source": [
    "scryfall.columns"
   ]
  },
  {
   "cell_type": "markdown",
   "metadata": {},
   "source": [
    "**Filter out cards that are not commander legal**"
   ]
  },
  {
   "cell_type": "code",
   "execution_count": 103,
   "metadata": {},
   "outputs": [],
   "source": [
    "scryfall.legalities = [card['commander'] or card['future'] for card in scryfall.legalities]"
   ]
  },
  {
   "cell_type": "code",
   "execution_count": 104,
   "metadata": {},
   "outputs": [],
   "source": [
    "scryfall = scryfall[scryfall.legalities=='legal']"
   ]
  },
  {
   "cell_type": "markdown",
   "metadata": {},
   "source": [
    "**Not including reserved cards because they are expensive**"
   ]
  },
  {
   "cell_type": "code",
   "execution_count": 105,
   "metadata": {},
   "outputs": [],
   "source": [
    "scryfall = scryfall[scryfall.reserved==False]"
   ]
  },
  {
   "cell_type": "markdown",
   "metadata": {},
   "source": [
    "**Commander is meant to promote socializing, so only including cards that can be physically played**"
   ]
  },
  {
   "cell_type": "code",
   "execution_count": 106,
   "metadata": {},
   "outputs": [],
   "source": [
    "scryfall.games = ['paper' in card for card in scryfall.games]"
   ]
  },
  {
   "cell_type": "code",
   "execution_count": 107,
   "metadata": {},
   "outputs": [],
   "source": [
    "scryfall = scryfall[scryfall.games]"
   ]
  },
  {
   "cell_type": "markdown",
   "metadata": {},
   "source": [
    "**English versions of cards only**"
   ]
  },
  {
   "cell_type": "code",
   "execution_count": 108,
   "metadata": {},
   "outputs": [],
   "source": [
    "scryfall = scryfall[scryfall.lang=='en']"
   ]
  },
  {
   "cell_type": "code",
   "execution_count": 109,
   "metadata": {
    "scrolled": true
   },
   "outputs": [
    {
     "data": {
      "text/plain": [
       "(39829, 34)"
      ]
     },
     "execution_count": 109,
     "metadata": {},
     "output_type": "execute_result"
    }
   ],
   "source": [
    "scryfall.shape"
   ]
  },
  {
   "cell_type": "markdown",
   "metadata": {},
   "source": [
    "**Leave out promotional cards**"
   ]
  },
  {
   "cell_type": "code",
   "execution_count": 110,
   "metadata": {},
   "outputs": [],
   "source": [
    "scryfall = scryfall[scryfall.promo==False]"
   ]
  },
  {
   "cell_type": "code",
   "execution_count": 111,
   "metadata": {},
   "outputs": [
    {
     "data": {
      "text/plain": [
       "(36906, 34)"
      ]
     },
     "execution_count": 111,
     "metadata": {},
     "output_type": "execute_result"
    }
   ],
   "source": [
    "scryfall.shape"
   ]
  },
  {
   "cell_type": "markdown",
   "metadata": {},
   "source": [
    "**Each card reprint has its own entry in the dataset. Therefore drop all duplicates and only keep the most recent copy**"
   ]
  },
  {
   "cell_type": "code",
   "execution_count": 112,
   "metadata": {
    "scrolled": true
   },
   "outputs": [],
   "source": [
    "scryfall = scryfall.sort_values(['name','released_at'],ascending=False).drop_duplicates('name')"
   ]
  },
  {
   "cell_type": "code",
   "execution_count": 113,
   "metadata": {
    "scrolled": false
   },
   "outputs": [
    {
     "data": {
      "text/plain": [
       "(18636, 34)"
      ]
     },
     "execution_count": 113,
     "metadata": {},
     "output_type": "execute_result"
    }
   ],
   "source": [
    "scryfall.shape"
   ]
  },
  {
   "cell_type": "markdown",
   "metadata": {},
   "source": [
    "# Scraping EDHREC.com for popular commanders\n",
    "**Popular commanders will be weighted more when making recommendations**"
   ]
  },
  {
   "cell_type": "code",
   "execution_count": 80,
   "metadata": {},
   "outputs": [],
   "source": [
    "from selenium import webdriver\n",
    "from time import sleep\n",
    "url = 'https://edhrec.com/commanders/'\n",
    "colors = ['w','u','b','r','g','colorless',\n",
    "          'wu','ub','br','rg','gw','wb','ur','bg','rw','gu',\n",
    "          'wub','ubr','brg','rgw','gwu','wbg','urw','bgu','rwb','gur',\n",
    "          'wubr','ubrg','brgw','rgwu','gwub','wubrg']\n",
    "pop_cmdrs = []\n",
    "staples = dict.fromkeys(colors)"
   ]
  },
  {
   "cell_type": "code",
   "execution_count": 81,
   "metadata": {
    "scrolled": true
   },
   "outputs": [
    {
     "name": "stdout",
     "output_type": "stream",
     "text": [
      "Sram, Senior Edificer - Taranika, Akroan Veteran\n",
      "Swords to Plowshares - Gilded Lotus\n",
      "Urza, Lord High Artificer - Zhou Yu, Chief Commander\n",
      "Counterspell - Fellwar Stone\n",
      "K'rrik, Son of Yawgmoth - Tymaret, Chosen from Death\n",
      "Cabal Stronghold - Snow-Covered Swamp\n",
      "Krenko, Mob Boss - Anax, Hardened in the Forge\n",
      "Chaos Warp - Commander's Sphere\n",
      "Ezuri, Renegade Leader - Renata, Called to the Hunt\n",
      "Llanowar Elves - Caged Sun\n",
      "Kozilek, the Great Distortion - Emrakul, the Aeons Torn\n",
      "Shrine of the Forsaken Gods - Mana Vault\n",
      "Brago, King Eternal - Jedit Ojanen\n",
      "Swords to Plowshares - Hedron Archive\n",
      "Yuriko, the Tiger's Shadow - Ur-Drago\n",
      "Counterspell - Sunken Ruins\n",
      "Anje Falkenrath - Tor Wauki\n",
      "Rakdos Charm - Darksteel Ingot\n",
      "Omnath, Locus of Rage - Tuknir Deathlock\n",
      "Cultivate - The Great Henge\n",
      "Trostani, Selesnya's Voice - Lord Magnus\n",
      "Swords to Plowshares - Wooded Bastion\n",
      "Teysa Karlov - Kunoros, Hound of Athreos\n",
      "Swords to Plowshares - Silent Clearing\n",
      "Niv-Mizzet, Parun - Kraum, Ludevic's Opus\n",
      "Reliquary Tower - Wandering Fumarole\n",
      "Meren of Clan Nel Toth - Polukranos, Unchained\n",
      "Putrefy - Arcane Signet\n",
      "Feather, the Redeemed - Bruse Tarl, Boorish Herder\n",
      "Boros Charm - Thought Vessel\n",
      "Tatyova, Benthic Druid - Eutropia the Twice-Favored\n",
      "Reliquary Tower - Arcane Signet\n",
      "Oloro, Ageless Ascetic - Ishai, Ojutai Dragonspeaker // Silas Renn, Seeker Adept\n",
      "Swords to Plowshares - Jwar Isle Refuge\n",
      "Kess, Dissident Mage - Garza Zol, Plague Queen\n",
      "Counterspell - Izzet Guildgate\n",
      "Lord Windgrace - Bartel Runeaxe\n",
      "Sakura-Tribe Elder - Nurturing Peatland\n",
      "Gishath, Sun's Avatar - Bruse Tarl, Boorish Herder // Sidar Kondo of Jamuraa\n",
      "Cultivate - Temple of Plenty\n",
      "Arcades, the Strategist - Ishai, Ojutai Dragonspeaker // Sidar Kondo of Jamuraa\n",
      "Setessan Champion - Scattered Groves\n",
      "Ghave, Guru of Spores - Reyhan, Last of the Abzan // Sidar Kondo of Jamuraa\n",
      "Swords to Plowshares - Exotic Orchard\n",
      "Kykar, Wind's Fury - Bruse Tarl, Boorish Herder // Ludevic, Necro-Alchemist\n",
      "Underworld Breach - Adarkar Wastes\n",
      "Muldrotha, the Gravetide - Ikra Shidiqi, the Usurper // Silas Renn, Seeker Adept\n",
      "Eternal Witness - Underground River\n",
      "Edgar Markov - Bruse Tarl, Boorish Herder // Vial Smasher the Fierce\n",
      "Swords to Plowshares - Akoum Refuge\n",
      "Animar, Soul of Elements - Ludevic, Necro-Alchemist // Tana, the Bloodsower\n",
      "Cultivate - Flooded Grove\n",
      "Breya, Etherium Shaper - Ludevic, Necro-Alchemist // Ravos, Soultender\n",
      "Seat of the Synod - Morphic Pool\n",
      "Yidris, Maelstrom Wielder - Ludevic, Necro-Alchemist // Reyhan, Last of the Abzan\n",
      "Underworld Breach - Gruul Signet\n",
      "Saskia the Unyielding - Akiri, Line-Slinger // Ikra Shidiqi, the Usurper\n",
      "Swords to Plowshares - Rakdos Signet\n",
      "Kynaios and Tiro of Meletis - Kraum, Ludevic's Opus // Sidar Kondo of Jamuraa\n",
      "Swords to Plowshares - Canopy Vista\n",
      "Atraxa, Praetors' Voice - Ikra Shidiqi, the Usurper // Ishai, Ojutai Dragonspeaker\n",
      "Deepglow Skate - Drowned Catacomb\n",
      "Jodah, Archmage Eternal - Sliver Legion\n",
      "Farseek - Rakdos Guildgate\n",
      "997\n"
     ]
    }
   ],
   "source": [
    "driver = webdriver.Chrome()\n",
    "driver.maximize_window()\n",
    "for color in colors:\n",
    "    driver.get(url+color)\n",
    "    sleep(1)\n",
    "    if color == 'w':\n",
    "        # First scrolls to make sure the button to change layout is in view\n",
    "        driver.execute_script(\"arguments[0].scrollIntoView();\", driver.find_element_by_xpath('//*[@id=\"root\"]/div/div[3]/div[2]/div[2]/div/div[2]/div[2]/div[1]/div[2]/li[1]/a'))\n",
    "        driver.find_element_by_xpath('//*[@id=\"root\"]/div/div[3]/div[2]/div[2]/div/div[3]/div/ul/li[2]/a/span').click()\n",
    "    cards = driver.find_element_by_class_name('edhrec__cardlist-text-section').text.split('\\n')\n",
    "    cards = ['' if e.endswith(' Staples') else e for e in cards[1:]]\n",
    "    cmdrs = cards[0:cards.index('')]\n",
    "    pop_cmdrs.extend(cmdrs)\n",
    "    print(cmdrs[0]+' - '+cmdrs[-1])\n",
    "    stapes = cards[cards.index('')+1:]\n",
    "    stapes.remove('')\n",
    "    print(stapes[0]+' - '+stapes[-1])\n",
    "    staples[color]=stapes\n",
    "    sleep(1)\n",
    "pop_cmdrs = list(set(pop_cmdrs))\n",
    "print(len(pop_cmdrs))\n",
    "pop_cmdrs\n",
    "driver.close()"
   ]
  },
  {
   "cell_type": "code",
   "execution_count": 114,
   "metadata": {},
   "outputs": [],
   "source": [
    "scryfall['pop_cmdr'] = pd.Series([card in pop_cmdrs for card in scryfall['name']],index=scryfall.index)"
   ]
  },
  {
   "cell_type": "code",
   "execution_count": 115,
   "metadata": {},
   "outputs": [],
   "source": [
    "for color in list(staples.items()):\n",
    "    scryfall[color[0]] = pd.Series([card in color[1] for card in scryfall['name']],index=scryfall.index)"
   ]
  },
  {
   "cell_type": "code",
   "execution_count": 116,
   "metadata": {},
   "outputs": [
    {
     "data": {
      "text/html": [
       "<div>\n",
       "<style scoped>\n",
       "    .dataframe tbody tr th:only-of-type {\n",
       "        vertical-align: middle;\n",
       "    }\n",
       "\n",
       "    .dataframe tbody tr th {\n",
       "        vertical-align: top;\n",
       "    }\n",
       "\n",
       "    .dataframe thead th {\n",
       "        text-align: right;\n",
       "    }\n",
       "</style>\n",
       "<table border=\"1\" class=\"dataframe\">\n",
       "  <thead>\n",
       "    <tr style=\"text-align: right;\">\n",
       "      <th></th>\n",
       "      <th>all_parts</th>\n",
       "      <th>artist</th>\n",
       "      <th>cmc</th>\n",
       "      <th>color_identity</th>\n",
       "      <th>color_indicator</th>\n",
       "      <th>colors</th>\n",
       "      <th>edhrec_rank</th>\n",
       "      <th>games</th>\n",
       "      <th>highres_image</th>\n",
       "      <th>image_uris</th>\n",
       "      <th>lang</th>\n",
       "      <th>layout</th>\n",
       "      <th>legalities</th>\n",
       "      <th>loyalty</th>\n",
       "      <th>mana_cost</th>\n",
       "      <th>name</th>\n",
       "      <th>oracle_text</th>\n",
       "      <th>oversized</th>\n",
       "      <th>power</th>\n",
       "      <th>preview</th>\n",
       "      <th>printed_text</th>\n",
       "      <th>printed_type_line</th>\n",
       "      <th>promo</th>\n",
       "      <th>released_at</th>\n",
       "      <th>reprint</th>\n",
       "      <th>reserved</th>\n",
       "      <th>scryfall_uri</th>\n",
       "      <th>set</th>\n",
       "      <th>set_name</th>\n",
       "      <th>set_search_uri</th>\n",
       "      <th>tcgplayer_id</th>\n",
       "      <th>textless</th>\n",
       "      <th>toughness</th>\n",
       "      <th>type_line</th>\n",
       "      <th>pop_cmdr</th>\n",
       "      <th>w</th>\n",
       "      <th>u</th>\n",
       "      <th>b</th>\n",
       "      <th>r</th>\n",
       "      <th>g</th>\n",
       "      <th>colorless</th>\n",
       "      <th>wu</th>\n",
       "      <th>ub</th>\n",
       "      <th>br</th>\n",
       "      <th>rg</th>\n",
       "      <th>gw</th>\n",
       "      <th>wb</th>\n",
       "      <th>ur</th>\n",
       "      <th>bg</th>\n",
       "      <th>rw</th>\n",
       "      <th>gu</th>\n",
       "      <th>wub</th>\n",
       "      <th>ubr</th>\n",
       "      <th>brg</th>\n",
       "      <th>rgw</th>\n",
       "      <th>gwu</th>\n",
       "      <th>wbg</th>\n",
       "      <th>urw</th>\n",
       "      <th>bgu</th>\n",
       "      <th>rwb</th>\n",
       "      <th>gur</th>\n",
       "      <th>wubr</th>\n",
       "      <th>ubrg</th>\n",
       "      <th>brgw</th>\n",
       "      <th>rgwu</th>\n",
       "      <th>gwub</th>\n",
       "      <th>wubrg</th>\n",
       "    </tr>\n",
       "  </thead>\n",
       "  <tbody>\n",
       "    <tr>\n",
       "      <th>19107</th>\n",
       "      <td>NaN</td>\n",
       "      <td>Aleksi Briclot</td>\n",
       "      <td>5.0</td>\n",
       "      <td>[B, R, W]</td>\n",
       "      <td>NaN</td>\n",
       "      <td>[B, R, W]</td>\n",
       "      <td>3244.0</td>\n",
       "      <td>True</td>\n",
       "      <td>True</td>\n",
       "      <td>{'small': 'https://img.scryfall.com/cards/smal...</td>\n",
       "      <td>en</td>\n",
       "      <td>normal</td>\n",
       "      <td>legal</td>\n",
       "      <td>NaN</td>\n",
       "      <td>{2}{R}{W}{B}</td>\n",
       "      <td>Zurgo Helmsmasher</td>\n",
       "      <td>Haste\\nZurgo Helmsmasher attacks each combat i...</td>\n",
       "      <td>False</td>\n",
       "      <td>7</td>\n",
       "      <td>NaN</td>\n",
       "      <td>NaN</td>\n",
       "      <td>NaN</td>\n",
       "      <td>False</td>\n",
       "      <td>2014-09-26</td>\n",
       "      <td>False</td>\n",
       "      <td>False</td>\n",
       "      <td>https://scryfall.com/card/ktk/214/zurgo-helmsm...</td>\n",
       "      <td>ktk</td>\n",
       "      <td>Khans of Tarkir</td>\n",
       "      <td>https://api.scryfall.com/cards/search?order=se...</td>\n",
       "      <td>91647.0</td>\n",
       "      <td>False</td>\n",
       "      <td>2</td>\n",
       "      <td>Legendary Creature — Orc Warrior</td>\n",
       "      <td>True</td>\n",
       "      <td>False</td>\n",
       "      <td>False</td>\n",
       "      <td>False</td>\n",
       "      <td>False</td>\n",
       "      <td>False</td>\n",
       "      <td>False</td>\n",
       "      <td>False</td>\n",
       "      <td>False</td>\n",
       "      <td>False</td>\n",
       "      <td>False</td>\n",
       "      <td>False</td>\n",
       "      <td>False</td>\n",
       "      <td>False</td>\n",
       "      <td>False</td>\n",
       "      <td>False</td>\n",
       "      <td>False</td>\n",
       "      <td>False</td>\n",
       "      <td>False</td>\n",
       "      <td>False</td>\n",
       "      <td>False</td>\n",
       "      <td>False</td>\n",
       "      <td>False</td>\n",
       "      <td>False</td>\n",
       "      <td>False</td>\n",
       "      <td>False</td>\n",
       "      <td>False</td>\n",
       "      <td>False</td>\n",
       "      <td>False</td>\n",
       "      <td>False</td>\n",
       "      <td>False</td>\n",
       "      <td>False</td>\n",
       "      <td>False</td>\n",
       "    </tr>\n",
       "    <tr>\n",
       "      <th>17563</th>\n",
       "      <td>NaN</td>\n",
       "      <td>Jason Rainville</td>\n",
       "      <td>1.0</td>\n",
       "      <td>[R]</td>\n",
       "      <td>NaN</td>\n",
       "      <td>[R]</td>\n",
       "      <td>6491.0</td>\n",
       "      <td>True</td>\n",
       "      <td>True</td>\n",
       "      <td>{'small': 'https://img.scryfall.com/cards/smal...</td>\n",
       "      <td>en</td>\n",
       "      <td>normal</td>\n",
       "      <td>legal</td>\n",
       "      <td>NaN</td>\n",
       "      <td>{R}</td>\n",
       "      <td>Zurgo Bellstriker</td>\n",
       "      <td>Zurgo Bellstriker can't block creatures with p...</td>\n",
       "      <td>False</td>\n",
       "      <td>2</td>\n",
       "      <td>NaN</td>\n",
       "      <td>NaN</td>\n",
       "      <td>NaN</td>\n",
       "      <td>False</td>\n",
       "      <td>2015-03-27</td>\n",
       "      <td>False</td>\n",
       "      <td>False</td>\n",
       "      <td>https://scryfall.com/card/dtk/169/zurgo-bellst...</td>\n",
       "      <td>dtk</td>\n",
       "      <td>Dragons of Tarkir</td>\n",
       "      <td>https://api.scryfall.com/cards/search?order=se...</td>\n",
       "      <td>96469.0</td>\n",
       "      <td>False</td>\n",
       "      <td>2</td>\n",
       "      <td>Legendary Creature — Orc Warrior</td>\n",
       "      <td>True</td>\n",
       "      <td>False</td>\n",
       "      <td>False</td>\n",
       "      <td>False</td>\n",
       "      <td>False</td>\n",
       "      <td>False</td>\n",
       "      <td>False</td>\n",
       "      <td>False</td>\n",
       "      <td>False</td>\n",
       "      <td>False</td>\n",
       "      <td>False</td>\n",
       "      <td>False</td>\n",
       "      <td>False</td>\n",
       "      <td>False</td>\n",
       "      <td>False</td>\n",
       "      <td>False</td>\n",
       "      <td>False</td>\n",
       "      <td>False</td>\n",
       "      <td>False</td>\n",
       "      <td>False</td>\n",
       "      <td>False</td>\n",
       "      <td>False</td>\n",
       "      <td>False</td>\n",
       "      <td>False</td>\n",
       "      <td>False</td>\n",
       "      <td>False</td>\n",
       "      <td>False</td>\n",
       "      <td>False</td>\n",
       "      <td>False</td>\n",
       "      <td>False</td>\n",
       "      <td>False</td>\n",
       "      <td>False</td>\n",
       "      <td>False</td>\n",
       "    </tr>\n",
       "    <tr>\n",
       "      <th>33187</th>\n",
       "      <td>NaN</td>\n",
       "      <td>Edward P. Beard, Jr.</td>\n",
       "      <td>3.0</td>\n",
       "      <td>[U]</td>\n",
       "      <td>NaN</td>\n",
       "      <td>[U]</td>\n",
       "      <td>9227.0</td>\n",
       "      <td>True</td>\n",
       "      <td>True</td>\n",
       "      <td>{'small': 'https://img.scryfall.com/cards/smal...</td>\n",
       "      <td>en</td>\n",
       "      <td>normal</td>\n",
       "      <td>legal</td>\n",
       "      <td>NaN</td>\n",
       "      <td>{2}{U}</td>\n",
       "      <td>Zuran Spellcaster</td>\n",
       "      <td>{T}: Zuran Spellcaster deals 1 damage to any t...</td>\n",
       "      <td>False</td>\n",
       "      <td>1</td>\n",
       "      <td>NaN</td>\n",
       "      <td>NaN</td>\n",
       "      <td>NaN</td>\n",
       "      <td>False</td>\n",
       "      <td>2006-07-21</td>\n",
       "      <td>True</td>\n",
       "      <td>False</td>\n",
       "      <td>https://scryfall.com/card/cst/112/zuran-spellc...</td>\n",
       "      <td>cst</td>\n",
       "      <td>Coldsnap Theme Decks</td>\n",
       "      <td>https://api.scryfall.com/cards/search?order=se...</td>\n",
       "      <td>82387.0</td>\n",
       "      <td>False</td>\n",
       "      <td>1</td>\n",
       "      <td>Creature — Human Wizard</td>\n",
       "      <td>False</td>\n",
       "      <td>False</td>\n",
       "      <td>False</td>\n",
       "      <td>False</td>\n",
       "      <td>False</td>\n",
       "      <td>False</td>\n",
       "      <td>False</td>\n",
       "      <td>False</td>\n",
       "      <td>False</td>\n",
       "      <td>False</td>\n",
       "      <td>False</td>\n",
       "      <td>False</td>\n",
       "      <td>False</td>\n",
       "      <td>False</td>\n",
       "      <td>False</td>\n",
       "      <td>False</td>\n",
       "      <td>False</td>\n",
       "      <td>False</td>\n",
       "      <td>False</td>\n",
       "      <td>False</td>\n",
       "      <td>False</td>\n",
       "      <td>False</td>\n",
       "      <td>False</td>\n",
       "      <td>False</td>\n",
       "      <td>False</td>\n",
       "      <td>False</td>\n",
       "      <td>False</td>\n",
       "      <td>False</td>\n",
       "      <td>False</td>\n",
       "      <td>False</td>\n",
       "      <td>False</td>\n",
       "      <td>False</td>\n",
       "      <td>False</td>\n",
       "    </tr>\n",
       "    <tr>\n",
       "      <th>27235</th>\n",
       "      <td>NaN</td>\n",
       "      <td>Ryan Pancoast</td>\n",
       "      <td>0.0</td>\n",
       "      <td>[]</td>\n",
       "      <td>NaN</td>\n",
       "      <td>[]</td>\n",
       "      <td>1753.0</td>\n",
       "      <td>True</td>\n",
       "      <td>True</td>\n",
       "      <td>{'small': 'https://img.scryfall.com/cards/smal...</td>\n",
       "      <td>en</td>\n",
       "      <td>normal</td>\n",
       "      <td>legal</td>\n",
       "      <td>NaN</td>\n",
       "      <td>{0}</td>\n",
       "      <td>Zuran Orb</td>\n",
       "      <td>Sacrifice a land: You gain 2 life.</td>\n",
       "      <td>False</td>\n",
       "      <td>NaN</td>\n",
       "      <td>NaN</td>\n",
       "      <td>NaN</td>\n",
       "      <td>NaN</td>\n",
       "      <td>False</td>\n",
       "      <td>2010-08-27</td>\n",
       "      <td>True</td>\n",
       "      <td>False</td>\n",
       "      <td>https://scryfall.com/card/v10/15/zuran-orb?utm...</td>\n",
       "      <td>v10</td>\n",
       "      <td>From the Vault: Relics</td>\n",
       "      <td>https://api.scryfall.com/cards/search?order=se...</td>\n",
       "      <td>36770.0</td>\n",
       "      <td>False</td>\n",
       "      <td>NaN</td>\n",
       "      <td>Artifact</td>\n",
       "      <td>False</td>\n",
       "      <td>False</td>\n",
       "      <td>False</td>\n",
       "      <td>False</td>\n",
       "      <td>False</td>\n",
       "      <td>False</td>\n",
       "      <td>False</td>\n",
       "      <td>False</td>\n",
       "      <td>False</td>\n",
       "      <td>False</td>\n",
       "      <td>False</td>\n",
       "      <td>False</td>\n",
       "      <td>False</td>\n",
       "      <td>False</td>\n",
       "      <td>False</td>\n",
       "      <td>False</td>\n",
       "      <td>False</td>\n",
       "      <td>False</td>\n",
       "      <td>False</td>\n",
       "      <td>False</td>\n",
       "      <td>False</td>\n",
       "      <td>False</td>\n",
       "      <td>False</td>\n",
       "      <td>False</td>\n",
       "      <td>False</td>\n",
       "      <td>False</td>\n",
       "      <td>False</td>\n",
       "      <td>False</td>\n",
       "      <td>False</td>\n",
       "      <td>False</td>\n",
       "      <td>False</td>\n",
       "      <td>False</td>\n",
       "      <td>False</td>\n",
       "    </tr>\n",
       "    <tr>\n",
       "      <th>46789</th>\n",
       "      <td>NaN</td>\n",
       "      <td>Douglas Shuler</td>\n",
       "      <td>2.0</td>\n",
       "      <td>[B, U]</td>\n",
       "      <td>NaN</td>\n",
       "      <td>[U]</td>\n",
       "      <td>18658.0</td>\n",
       "      <td>True</td>\n",
       "      <td>True</td>\n",
       "      <td>{'small': 'https://img.scryfall.com/cards/smal...</td>\n",
       "      <td>en</td>\n",
       "      <td>normal</td>\n",
       "      <td>legal</td>\n",
       "      <td>NaN</td>\n",
       "      <td>{1}{U}</td>\n",
       "      <td>Zuran Enchanter</td>\n",
       "      <td>{2}{B}, {T}: Target player discards a card. Ac...</td>\n",
       "      <td>False</td>\n",
       "      <td>1</td>\n",
       "      <td>NaN</td>\n",
       "      <td>NaN</td>\n",
       "      <td>NaN</td>\n",
       "      <td>False</td>\n",
       "      <td>1995-06-01</td>\n",
       "      <td>False</td>\n",
       "      <td>False</td>\n",
       "      <td>https://scryfall.com/card/ice/111/zuran-enchan...</td>\n",
       "      <td>ice</td>\n",
       "      <td>Ice Age</td>\n",
       "      <td>https://api.scryfall.com/cards/search?order=se...</td>\n",
       "      <td>4954.0</td>\n",
       "      <td>False</td>\n",
       "      <td>1</td>\n",
       "      <td>Creature — Human Wizard</td>\n",
       "      <td>False</td>\n",
       "      <td>False</td>\n",
       "      <td>False</td>\n",
       "      <td>False</td>\n",
       "      <td>False</td>\n",
       "      <td>False</td>\n",
       "      <td>False</td>\n",
       "      <td>False</td>\n",
       "      <td>False</td>\n",
       "      <td>False</td>\n",
       "      <td>False</td>\n",
       "      <td>False</td>\n",
       "      <td>False</td>\n",
       "      <td>False</td>\n",
       "      <td>False</td>\n",
       "      <td>False</td>\n",
       "      <td>False</td>\n",
       "      <td>False</td>\n",
       "      <td>False</td>\n",
       "      <td>False</td>\n",
       "      <td>False</td>\n",
       "      <td>False</td>\n",
       "      <td>False</td>\n",
       "      <td>False</td>\n",
       "      <td>False</td>\n",
       "      <td>False</td>\n",
       "      <td>False</td>\n",
       "      <td>False</td>\n",
       "      <td>False</td>\n",
       "      <td>False</td>\n",
       "      <td>False</td>\n",
       "      <td>False</td>\n",
       "      <td>False</td>\n",
       "    </tr>\n",
       "  </tbody>\n",
       "</table>\n",
       "</div>"
      ],
      "text/plain": [
       "      all_parts                artist  cmc color_identity color_indicator  \\\n",
       "19107       NaN        Aleksi Briclot  5.0      [B, R, W]             NaN   \n",
       "17563       NaN       Jason Rainville  1.0            [R]             NaN   \n",
       "33187       NaN  Edward P. Beard, Jr.  3.0            [U]             NaN   \n",
       "27235       NaN         Ryan Pancoast  0.0             []             NaN   \n",
       "46789       NaN        Douglas Shuler  2.0         [B, U]             NaN   \n",
       "\n",
       "          colors  edhrec_rank  games  highres_image  \\\n",
       "19107  [B, R, W]       3244.0   True           True   \n",
       "17563        [R]       6491.0   True           True   \n",
       "33187        [U]       9227.0   True           True   \n",
       "27235         []       1753.0   True           True   \n",
       "46789        [U]      18658.0   True           True   \n",
       "\n",
       "                                              image_uris lang  layout  \\\n",
       "19107  {'small': 'https://img.scryfall.com/cards/smal...   en  normal   \n",
       "17563  {'small': 'https://img.scryfall.com/cards/smal...   en  normal   \n",
       "33187  {'small': 'https://img.scryfall.com/cards/smal...   en  normal   \n",
       "27235  {'small': 'https://img.scryfall.com/cards/smal...   en  normal   \n",
       "46789  {'small': 'https://img.scryfall.com/cards/smal...   en  normal   \n",
       "\n",
       "      legalities loyalty     mana_cost               name  \\\n",
       "19107      legal     NaN  {2}{R}{W}{B}  Zurgo Helmsmasher   \n",
       "17563      legal     NaN           {R}  Zurgo Bellstriker   \n",
       "33187      legal     NaN        {2}{U}  Zuran Spellcaster   \n",
       "27235      legal     NaN           {0}          Zuran Orb   \n",
       "46789      legal     NaN        {1}{U}    Zuran Enchanter   \n",
       "\n",
       "                                             oracle_text  oversized power  \\\n",
       "19107  Haste\\nZurgo Helmsmasher attacks each combat i...      False     7   \n",
       "17563  Zurgo Bellstriker can't block creatures with p...      False     2   \n",
       "33187  {T}: Zuran Spellcaster deals 1 damage to any t...      False     1   \n",
       "27235                 Sacrifice a land: You gain 2 life.      False   NaN   \n",
       "46789  {2}{B}, {T}: Target player discards a card. Ac...      False     1   \n",
       "\n",
       "      preview printed_text printed_type_line  promo released_at  reprint  \\\n",
       "19107     NaN          NaN               NaN  False  2014-09-26    False   \n",
       "17563     NaN          NaN               NaN  False  2015-03-27    False   \n",
       "33187     NaN          NaN               NaN  False  2006-07-21     True   \n",
       "27235     NaN          NaN               NaN  False  2010-08-27     True   \n",
       "46789     NaN          NaN               NaN  False  1995-06-01    False   \n",
       "\n",
       "       reserved                                       scryfall_uri  set  \\\n",
       "19107     False  https://scryfall.com/card/ktk/214/zurgo-helmsm...  ktk   \n",
       "17563     False  https://scryfall.com/card/dtk/169/zurgo-bellst...  dtk   \n",
       "33187     False  https://scryfall.com/card/cst/112/zuran-spellc...  cst   \n",
       "27235     False  https://scryfall.com/card/v10/15/zuran-orb?utm...  v10   \n",
       "46789     False  https://scryfall.com/card/ice/111/zuran-enchan...  ice   \n",
       "\n",
       "                     set_name  \\\n",
       "19107         Khans of Tarkir   \n",
       "17563       Dragons of Tarkir   \n",
       "33187    Coldsnap Theme Decks   \n",
       "27235  From the Vault: Relics   \n",
       "46789                 Ice Age   \n",
       "\n",
       "                                          set_search_uri  tcgplayer_id  \\\n",
       "19107  https://api.scryfall.com/cards/search?order=se...       91647.0   \n",
       "17563  https://api.scryfall.com/cards/search?order=se...       96469.0   \n",
       "33187  https://api.scryfall.com/cards/search?order=se...       82387.0   \n",
       "27235  https://api.scryfall.com/cards/search?order=se...       36770.0   \n",
       "46789  https://api.scryfall.com/cards/search?order=se...        4954.0   \n",
       "\n",
       "       textless toughness                         type_line  pop_cmdr      w  \\\n",
       "19107     False         2  Legendary Creature — Orc Warrior      True  False   \n",
       "17563     False         2  Legendary Creature — Orc Warrior      True  False   \n",
       "33187     False         1           Creature — Human Wizard     False  False   \n",
       "27235     False       NaN                          Artifact     False  False   \n",
       "46789     False         1           Creature — Human Wizard     False  False   \n",
       "\n",
       "           u      b      r      g  colorless     wu     ub     br     rg  \\\n",
       "19107  False  False  False  False      False  False  False  False  False   \n",
       "17563  False  False  False  False      False  False  False  False  False   \n",
       "33187  False  False  False  False      False  False  False  False  False   \n",
       "27235  False  False  False  False      False  False  False  False  False   \n",
       "46789  False  False  False  False      False  False  False  False  False   \n",
       "\n",
       "          gw     wb     ur     bg     rw     gu    wub    ubr    brg    rgw  \\\n",
       "19107  False  False  False  False  False  False  False  False  False  False   \n",
       "17563  False  False  False  False  False  False  False  False  False  False   \n",
       "33187  False  False  False  False  False  False  False  False  False  False   \n",
       "27235  False  False  False  False  False  False  False  False  False  False   \n",
       "46789  False  False  False  False  False  False  False  False  False  False   \n",
       "\n",
       "         gwu    wbg    urw    bgu    rwb    gur   wubr   ubrg   brgw   rgwu  \\\n",
       "19107  False  False  False  False  False  False  False  False  False  False   \n",
       "17563  False  False  False  False  False  False  False  False  False  False   \n",
       "33187  False  False  False  False  False  False  False  False  False  False   \n",
       "27235  False  False  False  False  False  False  False  False  False  False   \n",
       "46789  False  False  False  False  False  False  False  False  False  False   \n",
       "\n",
       "        gwub  wubrg  \n",
       "19107  False  False  \n",
       "17563  False  False  \n",
       "33187  False  False  \n",
       "27235  False  False  \n",
       "46789  False  False  "
      ]
     },
     "execution_count": 116,
     "metadata": {},
     "output_type": "execute_result"
    }
   ],
   "source": [
    "scryfall.head()"
   ]
  },
  {
   "cell_type": "markdown",
   "metadata": {},
   "source": [
    "**Sorted back to release order and exported as a json for further use**"
   ]
  },
  {
   "cell_type": "code",
   "execution_count": 117,
   "metadata": {},
   "outputs": [
    {
     "data": {
      "text/plain": [
       "(18636, 67)"
      ]
     },
     "execution_count": 117,
     "metadata": {},
     "output_type": "execute_result"
    }
   ],
   "source": [
    "scryfall.sort_index(inplace=True)\n",
    "scryfall.shape"
   ]
  },
  {
   "cell_type": "code",
   "execution_count": 118,
   "metadata": {},
   "outputs": [],
   "source": [
    "scryfall.to_json(r'Data/commander_legal.json')"
   ]
  },
  {
   "cell_type": "markdown",
   "metadata": {},
   "source": [
    "# Pretty Images"
   ]
  },
  {
   "cell_type": "code",
   "execution_count": 119,
   "metadata": {},
   "outputs": [
    {
     "data": {
      "text/plain": [
       "{'small': 'https://img.scryfall.com/cards/small/front/e/d/ed6ff6d7-b976-413b-b433-8ebd2f3c2a54.jpg?1576267502',\n",
       " 'normal': 'https://img.scryfall.com/cards/normal/front/e/d/ed6ff6d7-b976-413b-b433-8ebd2f3c2a54.jpg?1576267502',\n",
       " 'large': 'https://img.scryfall.com/cards/large/front/e/d/ed6ff6d7-b976-413b-b433-8ebd2f3c2a54.jpg?1576267502',\n",
       " 'png': 'https://img.scryfall.com/cards/png/front/e/d/ed6ff6d7-b976-413b-b433-8ebd2f3c2a54.png?1576267502',\n",
       " 'art_crop': 'https://img.scryfall.com/cards/art_crop/front/e/d/ed6ff6d7-b976-413b-b433-8ebd2f3c2a54.jpg?1576267502',\n",
       " 'border_crop': 'https://img.scryfall.com/cards/border_crop/front/e/d/ed6ff6d7-b976-413b-b433-8ebd2f3c2a54.jpg?1576267502'}"
      ]
     },
     "execution_count": 119,
     "metadata": {},
     "output_type": "execute_result"
    }
   ],
   "source": [
    "images = scryfall.image_uris.tolist()\n",
    "images[0]"
   ]
  },
  {
   "cell_type": "code",
   "execution_count": 120,
   "metadata": {},
   "outputs": [
    {
     "data": {
      "image/png": "[encoded data removed]",
      "text/plain": [
       "<PIL.JpegImagePlugin.JpegImageFile image mode=RGB size=146x204 at 0x1A2B40A048>"
      ]
     },
     "execution_count": 120,
     "metadata": {},
     "output_type": "execute_result"
    }
   ],
   "source": [
    "response = requests.get(images[0]['small'])\n",
    "img = Image.open(BytesIO(response.content))\n",
    "img"
   ]
  },
  {
   "cell_type": "code",
   "execution_count": null,
   "metadata": {},
   "outputs": [],
   "source": []
  }
 ],
 "metadata": {
  "kernelspec": {
   "display_name": "Python 3",
   "language": "python",
   "name": "python3"
  },
  "language_info": {
   "codemirror_mode": {
    "name": "ipython",
    "version": 3
   },
   "file_extension": ".py",
   "mimetype": "text/x-python",
   "name": "python",
   "nbconvert_exporter": "python",
   "pygments_lexer": "ipython3",
   "version": "3.7.3"
  }
 },
 "nbformat": 4,
 "nbformat_minor": 2
}
